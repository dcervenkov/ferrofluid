{
 "cells": [
  {
   "cell_type": "markdown",
   "id": "d4152f68-0f22-472e-9af3-996ba4f95e19",
   "metadata": {
    "jp-MarkdownHeadingCollapsed": true,
    "tags": []
   },
   "source": [
    "# Setup"
   ]
  },
  {
   "cell_type": "code",
   "execution_count": null,
   "id": "b4ac7b1d-f789-4289-8352-a5926a4d5967",
   "metadata": {},
   "outputs": [],
   "source": [
    "# Standard includes\n",
    "%matplotlib inline\n",
    "# %matplotlib widget\n",
    "\n",
    "import matplotlib.pyplot as plt\n",
    "import numpy as np\n",
    "import pandas as pd"
   ]
  },
  {
   "cell_type": "code",
   "execution_count": null,
   "id": "e7dc3e0f-f977-425e-9248-d1f1bf5c9a8d",
   "metadata": {},
   "outputs": [],
   "source": [
    "# Style setup\n",
    "import seaborn as sns\n",
    "\n",
    "sns.set_palette(\"muted\")\n",
    "sns.set_color_codes()\n",
    "sns.set_style(\"ticks\")\n",
    "sns.set_style({\"xtick.direction\": \"in\", \"ytick.direction\": \"in\"})\n",
    "sns.set_style({\"axes.grid\": \"True\", \"grid.color\": \"0.95\"})\n",
    "\n",
    "plt.rcParams[\"figure.figsize\"] = [6, 6]\n",
    "plt.rcParams[\"figure.dpi\"] = 100\n",
    "\n",
    "\n",
    "def darken_color(color, p):\n",
    "    return (color[0] * p, color[1] * p, color[2] * p)\n",
    "\n",
    "\n",
    "import matplotlib as mpl\n",
    "\n",
    "colors = sns.color_palette(\"muted\") + [(0.1, 0.1, 0.1)]\n",
    "for code, color in zip([\"bd\", \"gd\", \"rd\", \"md\", \"yd\", \"cd\", \"kd\"], colors):\n",
    "    rgb = mpl.colors.colorConverter.to_rgb(darken_color(color, 0.8))\n",
    "    mpl.colors.colorConverter.colors[code] = rgb\n",
    "    mpl.colors.colorConverter.cache[code] = rgb\n",
    "\n",
    "blue = (114 / 256, 147 / 256, 203 / 256)\n",
    "orange = (225 / 256, 151 / 256, 76 / 256)\n",
    "green = (132 / 256, 186 / 256, 91 / 256)\n",
    "red = (211 / 256, 94 / 256, 96 / 256)\n",
    "grey = (128 / 256, 133 / 256, 133 / 256)\n",
    "violet = (144 / 256, 103 / 256, 167 / 256)\n",
    "brown = (171 / 256, 104 / 256, 87 / 256)\n",
    "yellow = (204 / 256, 194 / 256, 16 / 256)\n",
    "\n",
    "SMALL_SIZE = 14\n",
    "MEDIUM_SIZE = 16\n",
    "BIGGER_SIZE = 18\n",
    "\n",
    "plt.rc(\"font\", size=SMALL_SIZE)  # controls default text sizes\n",
    "plt.rc(\"axes\", titlesize=SMALL_SIZE)  # fontsize of the axes title\n",
    "plt.rc(\"axes\", labelsize=MEDIUM_SIZE)  # fontsize of the x and y labels\n",
    "plt.rc(\"xtick\", labelsize=SMALL_SIZE)  # fontsize of the tick labels\n",
    "plt.rc(\"ytick\", labelsize=SMALL_SIZE)  # fontsize of the tick labels\n",
    "plt.rc(\"legend\", fontsize=SMALL_SIZE)  # legend fontsize\n",
    "plt.rc(\"figure\", titlesize=BIGGER_SIZE)  # fontsize of the figure title\n",
    "\n",
    "PLOT_DIR = \"plots/\"\n",
    "FORMAT = \".png\""
   ]
  },
  {
   "cell_type": "markdown",
   "id": "78a1c693-7cae-46ab-af2b-fc39f8a9a3cf",
   "metadata": {},
   "source": [
    "# Plots"
   ]
  },
  {
   "cell_type": "code",
   "execution_count": null,
   "id": "9fd410d6-d023-4013-81eb-dfa464264a66",
   "metadata": {},
   "outputs": [],
   "source": [
    "df_old = pd.read_csv(\"../data/data_old.csv\", header=None, index_col=0)"
   ]
  },
  {
   "cell_type": "code",
   "execution_count": null,
   "id": "be90e49a-f11c-4a2e-83cb-601942033a8c",
   "metadata": {},
   "outputs": [],
   "source": [
    "df_new = pd.read_csv(\n",
    "    \"~/Dropbox/1_Projects/ISS/data/DATA_20220224_tail.CSV\", header=None, index_col=0\n",
    ")"
   ]
  },
  {
   "cell_type": "code",
   "execution_count": null,
   "id": "bb0ff1bc-34db-4871-9060-3cd5d3066f58",
   "metadata": {},
   "outputs": [],
   "source": [
    "df_220301 = pd.read_csv(\"../data/DATA_220301.csv\", header=None, index_col=0)\n",
    "df_220301_47k = pd.read_csv(\"../data/DATA_220301_47k.csv\", header=None, index_col=0)\n",
    "df_220301_47k_2 = pd.read_csv(\"../data/DATA_220301_47k_2.CSV\", header=None, index_col=0)\n",
    "df_220301_47k_ferro = pd.read_csv(\"../data/DATA_220301_47k_ferro.CSV\", header=None, index_col=0)"
   ]
  },
  {
   "cell_type": "code",
   "execution_count": null,
   "id": "4f651518-3c43-4499-8e4e-99d372dc7f41",
   "metadata": {},
   "outputs": [],
   "source": [
    "def overlay_plot(data, savefig=None):\n",
    "    i = 0\n",
    "    while i < 40 and i < len(data):\n",
    "        if data.iloc[i].var() > 0.01:\n",
    "            data.iloc[i].plot(\n",
    "                xlabel=\"Time [ms]\",\n",
    "                ylabel=\"Voltage [V]\",\n",
    "            )\n",
    "        i+=1\n",
    "    if savefig:\n",
    "        plt.savefig(savefig)"
   ]
  },
  {
   "cell_type": "code",
   "execution_count": null,
   "id": "9463b771-8b91-4a25-a917-ac545329efc7",
   "metadata": {},
   "outputs": [],
   "source": [
    "overlay_plot(df_old, \"before.png\")"
   ]
  },
  {
   "cell_type": "code",
   "execution_count": null,
   "id": "1b99151e-3ffd-4933-ba4c-6654a7ceb65c",
   "metadata": {},
   "outputs": [],
   "source": [
    "overlay_plot(df_new, \"after.png\")"
   ]
  },
  {
   "cell_type": "code",
   "execution_count": null,
   "id": "3ab70afd-a55a-46a4-86a6-6504d3d04cbf",
   "metadata": {},
   "outputs": [],
   "source": [
    "overlay_plot(df_220301_47k)"
   ]
  },
  {
   "cell_type": "code",
   "execution_count": null,
   "id": "fa69a9f1-d99c-41b1-a734-166a1f0d56cc",
   "metadata": {},
   "outputs": [],
   "source": [
    "overlay_plot(df_220301_47k.iloc[:-2:2])"
   ]
  },
  {
   "cell_type": "code",
   "execution_count": null,
   "id": "f651b478-764d-4a9b-b305-579bb193745e",
   "metadata": {},
   "outputs": [],
   "source": [
    "overlay_plot(df_220301_47k.iloc[1:-2:2])"
   ]
  },
  {
   "cell_type": "code",
   "execution_count": null,
   "id": "ed00a287-d132-4578-8b4c-76791d407de4",
   "metadata": {},
   "outputs": [],
   "source": [
    "overlay_plot(df_220301_47k_2.iloc[:-2:2])"
   ]
  },
  {
   "cell_type": "code",
   "execution_count": null,
   "id": "4bc538b6-3c11-4369-b3ec-84fc94ace687",
   "metadata": {},
   "outputs": [],
   "source": [
    "overlay_plot(df_220301_47k_2.iloc[1:-2:2].query(\"@df[5] > 2.3 & @df[6] > 2.3\"))"
   ]
  },
  {
   "cell_type": "code",
   "execution_count": null,
   "id": "758c9e38-c271-4406-9c97-d49a8cde5225",
   "metadata": {},
   "outputs": [],
   "source": [
    "df = df_220301_47k_ferro"
   ]
  },
  {
   "cell_type": "code",
   "execution_count": null,
   "id": "7c5365e9-9854-459a-8b77-c1b77c0d91d8",
   "metadata": {},
   "outputs": [],
   "source": [
    "overlay_plot(df.iloc[:-2:2])"
   ]
  },
  {
   "cell_type": "code",
   "execution_count": null,
   "id": "ef4597e7-3d10-4ed7-8a77-72445c1cbf30",
   "metadata": {},
   "outputs": [],
   "source": [
    "overlay_plot(df.iloc[1:-2:2].query(\"@df[5] < 2.8\"))"
   ]
  },
  {
   "cell_type": "code",
   "execution_count": null,
   "id": "5d139b34-f29f-4a29-89b2-91f46e504ad7",
   "metadata": {},
   "outputs": [],
   "source": []
  }
 ],
 "metadata": {
  "kernelspec": {
   "display_name": "Python 3 (ipykernel)",
   "language": "python",
   "name": "python3"
  },
  "language_info": {
   "codemirror_mode": {
    "name": "ipython",
    "version": 3
   },
   "file_extension": ".py",
   "mimetype": "text/x-python",
   "name": "python",
   "nbconvert_exporter": "python",
   "pygments_lexer": "ipython3",
   "version": "3.9.10"
  }
 },
 "nbformat": 4,
 "nbformat_minor": 5
}
