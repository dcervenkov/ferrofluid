{
 "cells": [
  {
   "attachments": {},
   "cell_type": "markdown",
   "id": "0b5dd633",
   "metadata": {},
   "source": [
    "## Initalization"
   ]
  },
  {
   "cell_type": "code",
   "execution_count": null,
   "id": "b4ac7b1d-f789-4289-8352-a5926a4d5967",
   "metadata": {},
   "outputs": [],
   "source": [
    "# Standard includes\n",
    "%matplotlib inline\n",
    "# %matplotlib widget\n",
    "import os\n",
    "from pathlib import Path\n",
    "\n",
    "import matplotlib.pyplot as plt\n",
    "import numpy as np\n",
    "import pandas as pd"
   ]
  },
  {
   "cell_type": "code",
   "execution_count": null,
   "id": "e7dc3e0f-f977-425e-9248-d1f1bf5c9a8d",
   "metadata": {},
   "outputs": [],
   "source": [
    "# Style setup\n",
    "import seaborn as sns\n",
    "\n",
    "sns.set_palette(\"muted\")\n",
    "sns.set_color_codes()\n",
    "sns.set_style(\"ticks\")\n",
    "sns.set_style({\"xtick.direction\": \"in\", \"ytick.direction\": \"in\"})\n",
    "sns.set_style({\"axes.grid\": \"True\", \"grid.color\": \"0.95\"})\n",
    "\n",
    "def darken_color(color, p):\n",
    "    return (color[0] * p, color[1] * p, color[2] * p)\n",
    "\n",
    "\n",
    "import matplotlib as mpl\n",
    "\n",
    "colors = sns.color_palette(\"muted\") + [(0.1, 0.1, 0.1)]\n",
    "for code, color in zip([\"bd\", \"gd\", \"rd\", \"md\", \"yd\", \"cd\", \"kd\"], colors):\n",
    "    rgb = mpl.colors.colorConverter.to_rgb(darken_color(color, 0.8))\n",
    "    mpl.colors.colorConverter.colors[code] = rgb\n",
    "    mpl.colors.colorConverter.cache[code] = rgb\n",
    "\n",
    "blue = (114 / 256, 147 / 256, 203 / 256)\n",
    "orange = (225 / 256, 151 / 256, 76 / 256)\n",
    "green = (132 / 256, 186 / 256, 91 / 256)\n",
    "red = (211 / 256, 94 / 256, 96 / 256)\n",
    "grey = (128 / 256, 133 / 256, 133 / 256)\n",
    "violet = (144 / 256, 103 / 256, 167 / 256)\n",
    "brown = (171 / 256, 104 / 256, 87 / 256)\n",
    "yellow = (204 / 256, 194 / 256, 16 / 256)\n",
    "\n",
    "SMALL_SIZE = 14\n",
    "MEDIUM_SIZE = 16\n",
    "BIGGER_SIZE = 18\n",
    "\n",
    "plt.rc(\"font\", size=SMALL_SIZE)  # controls default text sizes\n",
    "plt.rc(\"axes\", titlesize=SMALL_SIZE)  # fontsize of the axes title\n",
    "plt.rc(\"axes\", labelsize=MEDIUM_SIZE)  # fontsize of the x and y labels\n",
    "plt.rc(\"xtick\", labelsize=SMALL_SIZE)  # fontsize of the tick labels\n",
    "plt.rc(\"ytick\", labelsize=SMALL_SIZE)  # fontsize of the tick labels\n",
    "plt.rc(\"legend\", fontsize=SMALL_SIZE)  # legend fontsize\n",
    "plt.rc(\"figure\", titlesize=BIGGER_SIZE)  # fontsize of the figure title\n",
    "\n",
    "plt.rcParams[\"figure.figsize\"] = [6, 6]\n",
    "plt.rcParams[\"figure.dpi\"] = 100\n",
    "plt.rcParams[\"savefig.format\"] = \"png\"\n",
    "\n",
    "PLOT_DIR = Path(\"plots\")\n",
    "PLOT_DIR.mkdir(parents=True, exist_ok=True)"
   ]
  },
  {
   "cell_type": "markdown",
   "id": "78a1c693-7cae-46ab-af2b-fc39f8a9a3cf",
   "metadata": {
    "tags": []
   },
   "source": [
    "# Plots"
   ]
  },
  {
   "attachments": {},
   "cell_type": "markdown",
   "id": "7b34ff09",
   "metadata": {},
   "source": [
    "### Data"
   ]
  },
  {
   "cell_type": "code",
   "execution_count": null,
   "id": "898e3498-b4d4-4efb-b03f-ff516b70b14b",
   "metadata": {},
   "outputs": [],
   "source": [
    "df_base = pd.read_csv(Path(\"..\") / \"data\" / \"DATA_baseline.CSV\", header=None, index_col=0)\n",
    "df_base2 = pd.read_csv(Path(\"..\") / \"data\" / \"DATA_baseline2.CSV\", header=None, index_col=0)\n",
    "df_eve = pd.read_csv(Path(\"..\") / \"data\" / \"DATA_evening.CSV\", header=None, index_col=0)\n",
    "df_last = pd.read_csv(Path(\"..\") / \"data\" / \"DATA_last_stand.CSV\", header=None, index_col=0)\n",
    "df_mike = pd.read_csv(Path(\"..\") / \"data\" / \"DATA_mike.CSV\", header=None, index_col=0)\n",
    "df_noferro = pd.read_csv(Path(\"..\") / \"data\" / \"DATA_noferro.CSV\", header=None, index_col=0)\n",
    "df_nomag = pd.read_csv(Path(\"..\") / \"data\" / \"DATA_nomagnets.CSV\", header=None, index_col=0)\n",
    "df_space = pd.read_csv(Path(\"..\") / \"data\" / \"DATA_space.CSV\", header=None, index_col=0)"
   ]
  },
  {
   "attachments": {},
   "cell_type": "markdown",
   "id": "95b0b52d",
   "metadata": {},
   "source": [
    "### Setup"
   ]
  },
  {
   "cell_type": "code",
   "execution_count": null,
   "id": "180cdaf1-d521-4b34-8bc4-330e5d7933ab",
   "metadata": {},
   "outputs": [],
   "source": [
    "interval = 0.5  # [ms]\n",
    "delay = 1.2  # [ms]\n",
    "times = np.array(range(29)) * interval + delay"
   ]
  },
  {
   "cell_type": "code",
   "execution_count": null,
   "id": "3067450c-817b-4fee-8822-b710811a9436",
   "metadata": {},
   "outputs": [],
   "source": [
    "def overlay_plot(data, savefig=None):\n",
    "    i = 0\n",
    "    while i < 40 and i < len(data):\n",
    "        plt.plot(times, data.iloc[i])\n",
    "        i+=1\n",
    "\n",
    "    plt.xlabel(\"Time [ms]\")\n",
    "    plt.ylabel(\"Voltage [V]\")\n",
    "\n",
    "    if savefig:\n",
    "        plt.savefig(PLOT_DIR / savefig)"
   ]
  },
  {
   "cell_type": "code",
   "execution_count": null,
   "id": "cc781a26-5494-4b89-9898-6ae7d89d78c0",
   "metadata": {},
   "outputs": [],
   "source": [
    "def overlay_plot_raw(data, savefig=None):\n",
    "    i = 0\n",
    "    while i < 40 and i < len(data):\n",
    "        data.iloc[i].plot(xlabel=\"Measurement\", ylabel=\"Voltage [V]\")\n",
    "        i+=1\n",
    "        \n",
    "    if savefig:\n",
    "        plt.savefig(PLOT_DIR / savefig)"
   ]
  },
  {
   "cell_type": "code",
   "execution_count": null,
   "id": "162e23b1-6d25-4160-b4e3-09fc3a22c9aa",
   "metadata": {},
   "outputs": [],
   "source": [
    "def plot_averaged(data, savefig=None):\n",
    "    means = data.mean()\n",
    "    sigmas = data.std()\n",
    "    \n",
    "    plt.plot(times, means)\n",
    "    plt.fill_between(times, means - sigmas, means + sigmas, alpha=0.5)\n",
    "    \n",
    "    plt.xlabel(\"Time [ms]\")\n",
    "    plt.ylabel(\"Voltage [V]\")\n",
    "\n",
    "    if savefig:\n",
    "        plt.savefig(PLOT_DIR / savefig)"
   ]
  },
  {
   "cell_type": "code",
   "execution_count": null,
   "id": "9379b17d-17d7-4c5c-aade-ef507c8f1ca4",
   "metadata": {},
   "outputs": [],
   "source": [
    "def plot_averaged_smooth(data, label=None, color=None, savefig=None):\n",
    "    means = data.mean()\n",
    "    sigmas = data.std()\n",
    "    \n",
    "    from scipy.interpolate import make_interp_spline, BSpline\n",
    "\n",
    "    times_smooth = np.linspace(times[0], times[-1], 300) \n",
    "\n",
    "    spline_means = make_interp_spline(times, means, k=3)  # type: BSpline\n",
    "    means_smooth = spline_means(times_smooth)\n",
    "    \n",
    "    spline_upper = make_interp_spline(times, means + sigmas, k=3)  # type: BSpline\n",
    "    upper_smooth = spline_upper(times_smooth)\n",
    "    \n",
    "    spline_lower = make_interp_spline(times, means - sigmas, k=3)  # type: BSpline\n",
    "    lower_smooth = spline_lower(times_smooth)\n",
    "\n",
    "    plt.plot(times_smooth, means_smooth, label=label, color=color)\n",
    "    plt.fill_between(times_smooth, lower_smooth, upper_smooth, alpha=0.3, color=color)\n",
    "    \n",
    "    plt.xlabel(\"Time [ms]\")\n",
    "    plt.ylabel(\"Voltage [V]\")\n",
    "\n",
    "    if savefig:\n",
    "        plt.savefig(PLOT_DIR / savefig)"
   ]
  },
  {
   "cell_type": "markdown",
   "id": "049aee28-aad4-466a-91a7-a3e40f0ad15b",
   "metadata": {
    "tags": []
   },
   "source": [
    "### Raw"
   ]
  },
  {
   "cell_type": "code",
   "execution_count": null,
   "id": "5d139b34-f29f-4a29-89b2-91f46e504ad7",
   "metadata": {},
   "outputs": [],
   "source": [
    "overlay_plot(df_last.iloc[:-2:2], \"last\")"
   ]
  },
  {
   "cell_type": "code",
   "execution_count": null,
   "id": "573d9c7c",
   "metadata": {},
   "outputs": [],
   "source": [
    "overlay_plot(df_last.iloc[1:-2:2])"
   ]
  },
  {
   "cell_type": "code",
   "execution_count": null,
   "id": "444438f7-134a-4bed-b468-f1fdd021156e",
   "metadata": {},
   "outputs": [],
   "source": [
    "overlay_plot_raw(df_mike.query(\"@df_mike[1]==1\").drop(columns=[1]), \"mike_coil1\")"
   ]
  },
  {
   "cell_type": "code",
   "execution_count": null,
   "id": "69400531-0462-42b2-ba46-5d7c98fed8d1",
   "metadata": {},
   "outputs": [],
   "source": [
    "overlay_plot_raw(df_mike.query(\"@df_mike[1]==2\").drop(columns=[1]), \"mike_coil2\")"
   ]
  },
  {
   "cell_type": "code",
   "execution_count": null,
   "id": "2e9be0bc",
   "metadata": {},
   "outputs": [],
   "source": [
    "overlay_plot(df_eve.iloc[:-2:2])"
   ]
  },
  {
   "cell_type": "code",
   "execution_count": null,
   "id": "c208465a",
   "metadata": {},
   "outputs": [],
   "source": [
    "overlay_plot(df_eve.iloc[1:-2:2])"
   ]
  },
  {
   "cell_type": "code",
   "execution_count": null,
   "id": "563ca3a2",
   "metadata": {},
   "outputs": [],
   "source": [
    "overlay_plot(df_base.iloc[:-2:2], \"base_even\")"
   ]
  },
  {
   "cell_type": "code",
   "execution_count": null,
   "id": "1b89c828",
   "metadata": {},
   "outputs": [],
   "source": [
    "overlay_plot(df_base.iloc[1:-2:2], \"base_odd\")"
   ]
  },
  {
   "cell_type": "code",
   "execution_count": null,
   "id": "903c3276",
   "metadata": {},
   "outputs": [],
   "source": [
    "overlay_plot(df_noferro.iloc[:-2:2], \"noferro_even\")"
   ]
  },
  {
   "cell_type": "code",
   "execution_count": null,
   "id": "ed46e982",
   "metadata": {},
   "outputs": [],
   "source": [
    "overlay_plot(df_noferro.iloc[1:-2:2], \"noferro_odd\")"
   ]
  },
  {
   "cell_type": "code",
   "execution_count": null,
   "id": "c3cd1154",
   "metadata": {},
   "outputs": [],
   "source": [
    "overlay_plot(df_nomag.iloc[:-2:2], \"nomag_even\")"
   ]
  },
  {
   "cell_type": "code",
   "execution_count": null,
   "id": "8d8fbd19",
   "metadata": {},
   "outputs": [],
   "source": [
    "overlay_plot(df_nomag.iloc[1:-2:2], \"nomag_odd\")"
   ]
  },
  {
   "cell_type": "code",
   "execution_count": null,
   "id": "fd6c8d54",
   "metadata": {},
   "outputs": [],
   "source": [
    "overlay_plot(df_base2.iloc[:-2:2], \"base2_even\")"
   ]
  },
  {
   "cell_type": "code",
   "execution_count": null,
   "id": "ac2fd776",
   "metadata": {},
   "outputs": [],
   "source": [
    "overlay_plot(df_space.iloc[1:-2:2], \"space_odd\")"
   ]
  },
  {
   "cell_type": "code",
   "execution_count": null,
   "id": "8b59f703-95ee-462d-acf8-d03f6db18d62",
   "metadata": {},
   "outputs": [],
   "source": [
    "overlay_plot(df_space.iloc[:-2:2], \"space_even\")"
   ]
  },
  {
   "cell_type": "code",
   "execution_count": null,
   "id": "4ab6f599",
   "metadata": {},
   "outputs": [],
   "source": [
    "overlay_plot(df_space.iloc[1:-2:2], \"space_odd\")"
   ]
  },
  {
   "cell_type": "markdown",
   "id": "762339a0-239a-4015-b4af-a6d1dbfd8478",
   "metadata": {
    "tags": []
   },
   "source": [
    "### Averaged"
   ]
  },
  {
   "cell_type": "code",
   "execution_count": null,
   "id": "bd9dd5ec-4f2d-41b3-b5b1-b88a041b42f9",
   "metadata": {},
   "outputs": [],
   "source": [
    "plot_averaged_smooth(df_base.iloc[:-2:2], \"baseline\", color=colors[0])\n",
    "plot_averaged_smooth(df_noferro.iloc[:-2:2], \"no ferrite\", color=colors[1])\n",
    "plot_averaged_smooth(df_nomag.iloc[:-2:2], \"no solenoid\", color=colors[2])\n",
    "plt.legend()\n",
    "plt.savefig(PLOT_DIR / \"comparison_virginia_even_smooth\")"
   ]
  },
  {
   "cell_type": "code",
   "execution_count": null,
   "id": "5c080ae4-22ca-446d-92be-91d6973df705",
   "metadata": {},
   "outputs": [],
   "source": [
    "plot_averaged_smooth(df_base.iloc[1:-2:2], \"baseline\", color=colors[0])\n",
    "plot_averaged_smooth(df_noferro.iloc[1:-2:2], \"no ferrite\", color=colors[1])\n",
    "plot_averaged_smooth(df_nomag.iloc[1:-2:2], \"no solenoid\", color=colors[2])\n",
    "plt.legend()\n",
    "plt.savefig(PLOT_DIR / \"comparison_virginia_odd_smooth\")"
   ]
  },
  {
   "cell_type": "code",
   "execution_count": null,
   "id": "1cd1728c-ab68-42b1-95a6-d891f97fcbcd",
   "metadata": {},
   "outputs": [],
   "source": [
    "plot_averaged_smooth(df_space.iloc[:-2:2], \"space\", color=colors[0])\n",
    "plt.savefig(PLOT_DIR / \"space_even_smooth\")"
   ]
  },
  {
   "cell_type": "code",
   "execution_count": null,
   "id": "522740d9-4485-4871-b914-d8995e3f6528",
   "metadata": {},
   "outputs": [],
   "source": [
    "plot_averaged_smooth(df_space.iloc[1:-2:2], \"space\", color=colors[0])\n",
    "plt.savefig(PLOT_DIR / \"space_odd_smooth\")"
   ]
  },
  {
   "cell_type": "code",
   "execution_count": null,
   "id": "ca130dfb-4517-4ac0-b105-ee72af7a4f2e",
   "metadata": {},
   "outputs": [],
   "source": [
    "plot_averaged_smooth(df_base2.iloc[:-2:2], \"baseline\", color=colors[1])\n",
    "plot_averaged_smooth(df_space.iloc[:-2:2], \"space\", color=colors[0])\n",
    "plt.legend()\n",
    "plt.savefig(PLOT_DIR / \"comparison_even_smooth\")"
   ]
  },
  {
   "cell_type": "code",
   "execution_count": null,
   "id": "e21c4aff-ba51-41fb-b155-0d28a6f28565",
   "metadata": {},
   "outputs": [],
   "source": [
    "plot_averaged_smooth(df_base2.iloc[1:-2:2], label=\"baseline\", color=colors[1])\n",
    "plot_averaged_smooth(df_space.iloc[1:-2:2], label=\"space\", color=colors[0])\n",
    "plt.legend(loc=\"lower right\")\n",
    "plt.savefig(PLOT_DIR / \"comparison_odd_smooth\")"
   ]
  },
  {
   "cell_type": "code",
   "execution_count": null,
   "id": "ae1eaeef",
   "metadata": {},
   "outputs": [],
   "source": []
  }
 ],
 "metadata": {
  "kernelspec": {
   "display_name": "Python 3 (ipykernel)",
   "language": "python",
   "name": "python3"
  },
  "language_info": {
   "codemirror_mode": {
    "name": "ipython",
    "version": 3
   },
   "file_extension": ".py",
   "mimetype": "text/x-python",
   "name": "python",
   "nbconvert_exporter": "python",
   "pygments_lexer": "ipython3",
   "version": "3.11.2"
  },
  "vscode": {
   "interpreter": {
    "hash": "b0fa6594d8f4cbf19f97940f81e996739fb7646882a419484c72d19e05852a7e"
   }
  }
 },
 "nbformat": 4,
 "nbformat_minor": 5
}
